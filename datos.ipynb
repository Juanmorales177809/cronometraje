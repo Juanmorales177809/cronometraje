{
 "cells": [
  {
   "cell_type": "code",
   "execution_count": 1,
   "metadata": {},
   "outputs": [],
   "source": [
    "import pandas as pd\n",
    "import pywhatkit\n",
    "import numpy as np"
   ]
  },
  {
   "cell_type": "code",
   "execution_count": 2,
   "metadata": {},
   "outputs": [
    {
     "name": "stdout",
     "output_type": "stream",
     "text": [
      "Hola, santiago Bienvenido a Morrón trail run  tu numero es: 3014215681\n",
      "El reto de los 12 kilometros no es facil, así que te enviamos una imagen con la altimetria y puntos de hidratación            para que organices tu estrategia de carrera .\n",
      "Hola, Marisella Bienvenida a Morrón trail run  tu numero es: 3014292473\n",
      "El reto de los 12 kilometros no es facil, así que te enviamos una imagen con la altimetria y puntos de hidratación            para que organices tu estrategia de carrera .\n",
      "Hola, Ana María Bienvenida a Morrón trail run  tu numero es: 3193088955\n",
      "El reto de los 12 kilometros no es facil, así que te enviamos una imagen con la altimetria y puntos de hidratación            para que organices tu estrategia de carrera .\n",
      "Hola, Jhon Sebastián  Bienvenido a Morrón trail run  tu numero es: 3106837735\n",
      "El reto de los 12 kilometros no es facil, así que te enviamos una imagen con la altimetria y puntos de hidratación            para que organices tu estrategia de carrera .\n",
      "Hola, Karen Bienvenida a Morrón trail run  tu numero es: 3015437701\n",
      "El reto de los 12 kilometros no es facil, así que te enviamos una imagen con la altimetria y puntos de hidratación            para que organices tu estrategia de carrera .\n",
      "Hola, Jairo Bienvenido a Morrón trail run  tu numero es: 3126565039\n",
      "El reto de los 27k no es facil, así que te enviamos una imagen con la altimetria y puntos de hidratación            para que organices tu estrategia de carrera.\n",
      "Hola, Yeisy tatiana Bienvenida a Morrón trail run  tu numero es: 30244542\n",
      "El reto de los 12 kilometros no es facil, así que te enviamos una imagen con la altimetria y puntos de hidratación            para que organices tu estrategia de carrera .\n",
      "Hola, Juan Felipe Bienvenido a Morrón trail run  tu numero es: 3128584534\n",
      "El reto de los 12 kilometros no es facil, así que te enviamos una imagen con la altimetria y puntos de hidratación            para que organices tu estrategia de carrera .\n",
      "Hola, thomas Bienvenido a Morrón trail run  tu numero es: 3045822978\n",
      "El reto de los 12 kilometros no es facil, así que te enviamos una imagen con la altimetria y puntos de hidratación            para que organices tu estrategia de carrera .\n",
      "Hola, Daniela Bienvenida a Morrón trail run  tu numero es: 3213027283\n",
      "El reto de los 12 kilometros no es facil, así que te enviamos una imagen con la altimetria y puntos de hidratación            para que organices tu estrategia de carrera .\n",
      "Hola, Juan Guillermo Bienvenido a Morrón trail run  tu numero es: 3216235908\n",
      "El reto de los 27k no es facil, así que te enviamos una imagen con la altimetria y puntos de hidratación            para que organices tu estrategia de carrera.\n",
      "Hola, David Bienvenido a Morrón trail run  tu numero es: 3122961504\n",
      "El reto de los 12 kilometros no es facil, así que te enviamos una imagen con la altimetria y puntos de hidratación            para que organices tu estrategia de carrera .\n",
      "Hola, Francia  Bienvenida a Morrón trail run  tu numero es: 3146164079\n",
      "El reto de los 12 kilometros no es facil, así que te enviamos una imagen con la altimetria y puntos de hidratación            para que organices tu estrategia de carrera .\n",
      "Hola, Lina María  Bienvenida a Morrón trail run  tu numero es: 3117999605\n",
      "El reto de los 12 kilometros no es facil, así que te enviamos una imagen con la altimetria y puntos de hidratación            para que organices tu estrategia de carrera .\n",
      "Hola, Carlos Julian  Bienvenido a Morrón trail run  tu numero es: 3128875615\n",
      "El reto de los 12 kilometros no es facil, así que te enviamos una imagen con la altimetria y puntos de hidratación            para que organices tu estrategia de carrera .\n",
      "Hola, Francisco Javier Bienvenido a Morrón trail run  tu numero es: 3106687977\n",
      "El reto de los 27k no es facil, así que te enviamos una imagen con la altimetria y puntos de hidratación            para que organices tu estrategia de carrera.\n",
      "Hola, Elisabeth Bienvenida a Morrón trail run  tu numero es: 32186446\n",
      "El reto de los 27k no es facil, así que te enviamos una imagen con la altimetria y puntos de hidratación            para que organices tu estrategia de carrera.\n",
      "Hola, Omar Julian  Bienvenido a Morrón trail run  tu numero es: 3128927703\n",
      "El reto de los 27k no es facil, así que te enviamos una imagen con la altimetria y puntos de hidratación            para que organices tu estrategia de carrera.\n",
      "Hola, Raúl  Bienvenido a Morrón trail run  tu numero es: 3217300128\n",
      "El reto de los 27k no es facil, así que te enviamos una imagen con la altimetria y puntos de hidratación            para que organices tu estrategia de carrera.\n",
      "Hola, Favio Bienvenido a Morrón trail run  tu numero es: 3146243531\n",
      "El reto de los 27k no es facil, así que te enviamos una imagen con la altimetria y puntos de hidratación            para que organices tu estrategia de carrera.\n",
      "Hola, Mauricio  Bienvenido a Morrón trail run  tu numero es: 3127423233\n",
      "El reto de los 27k no es facil, así que te enviamos una imagen con la altimetria y puntos de hidratación            para que organices tu estrategia de carrera.\n",
      "Hola, Jordan Bienvenido a Morrón trail run  tu numero es: 3148492341\n",
      "El reto de los 12 kilometros no es facil, así que te enviamos una imagen con la altimetria y puntos de hidratación            para que organices tu estrategia de carrera .\n",
      "Hola, Fabio Bienvenido a Morrón trail run  tu numero es: 3107141617\n",
      "El reto de los 12 kilometros no es facil, así que te enviamos una imagen con la altimetria y puntos de hidratación            para que organices tu estrategia de carrera .\n",
      "Hola, Tatiana Bienvenida a Morrón trail run  tu numero es: 3115554582\n",
      "El reto de los 12 kilometros no es facil, así que te enviamos una imagen con la altimetria y puntos de hidratación            para que organices tu estrategia de carrera .\n",
      "Hola, Tatiana Bienvenida a Morrón trail run  tu numero es: 3115554582\n",
      "El reto de los 12 kilometros no es facil, así que te enviamos una imagen con la altimetria y puntos de hidratación            para que organices tu estrategia de carrera .\n",
      "Hola, Carolina Bienvenida a Morrón trail run  tu numero es: 3146397345\n",
      "El reto de los 12 kilometros no es facil, así que te enviamos una imagen con la altimetria y puntos de hidratación            para que organices tu estrategia de carrera .\n",
      "Hola, Daniel Bienvenido a Morrón trail run  tu numero es: 3004420049\n",
      "El reto de los 12 kilometros no es facil, así que te enviamos una imagen con la altimetria y puntos de hidratación            para que organices tu estrategia de carrera .\n",
      "Hola, Astrid Yannet Bienvenida a Morrón trail run  tu numero es: 3505615643\n",
      "El reto de los 12 kilometros no es facil, así que te enviamos una imagen con la altimetria y puntos de hidratación            para que organices tu estrategia de carrera .\n",
      "Hola, Ana Maria Bienvenida a Morrón trail run  tu numero es: 3206732526\n",
      "El reto de los 12 kilometros no es facil, así que te enviamos una imagen con la altimetria y puntos de hidratación            para que organices tu estrategia de carrera .\n",
      "Hola, Sebastian Bienvenido a Morrón trail run  tu numero es: 3506145627\n",
      "El reto de los 27k no es facil, así que te enviamos una imagen con la altimetria y puntos de hidratación            para que organices tu estrategia de carrera.\n",
      "Hola, Daniel Bienvenido a Morrón trail run  tu numero es: 3122883566\n",
      "El reto de los 27k no es facil, así que te enviamos una imagen con la altimetria y puntos de hidratación            para que organices tu estrategia de carrera.\n",
      "Hola, Juan Pablo Bienvenido a Morrón trail run  tu numero es: 3183396085\n",
      "El reto de los 27k no es facil, así que te enviamos una imagen con la altimetria y puntos de hidratación            para que organices tu estrategia de carrera.\n",
      "Hola, Hernan Dario Bienvenido a Morrón trail run  tu numero es: 3206732526\n",
      "El reto de los 27k no es facil, así que te enviamos una imagen con la altimetria y puntos de hidratación            para que organices tu estrategia de carrera.\n",
      "Hola, Daniela  Bienvenida a Morrón trail run  tu numero es: 3197782626\n",
      "El reto de los 12 kilometros no es facil, así que te enviamos una imagen con la altimetria y puntos de hidratación            para que organices tu estrategia de carrera .\n",
      "Hola, Fabio  Bienvenido a Morrón trail run  tu numero es: 3023970487\n",
      "El reto de los 27k no es facil, así que te enviamos una imagen con la altimetria y puntos de hidratación            para que organices tu estrategia de carrera.\n",
      "Hola, Alejandro  Bienvenido a Morrón trail run  tu numero es: 31138041\n",
      "El reto de los 12 kilometros no es facil, así que te enviamos una imagen con la altimetria y puntos de hidratación            para que organices tu estrategia de carrera .\n",
      "Hola, Sebastián  Bienvenido a Morrón trail run  tu numero es: 3147685815\n",
      "El reto de los 27k no es facil, así que te enviamos una imagen con la altimetria y puntos de hidratación            para que organices tu estrategia de carrera.\n",
      "Hola, Santiago  Bienvenido a Morrón trail run  tu numero es: 3193392934\n",
      "El reto de los 12 kilometros no es facil, así que te enviamos una imagen con la altimetria y puntos de hidratación            para que organices tu estrategia de carrera .\n",
      "Hola, Carlos Armando Bienvenido a Morrón trail run  tu numero es: 3014462197\n",
      "El reto de los 27k no es facil, así que te enviamos una imagen con la altimetria y puntos de hidratación            para que organices tu estrategia de carrera.\n",
      "Hola, Julio Andrés  Bienvenido a Morrón trail run  tu numero es: 3002886554\n",
      "El reto de los 12 kilometros no es facil, así que te enviamos una imagen con la altimetria y puntos de hidratación            para que organices tu estrategia de carrera .\n",
      "Hola, Sebastián  Bienvenido a Morrón trail run  tu numero es: 3045919525\n",
      "El reto de los 12 kilometros no es facil, así que te enviamos una imagen con la altimetria y puntos de hidratación            para que organices tu estrategia de carrera .\n",
      "Hola, Javier Andrés  Bienvenido a Morrón trail run  tu numero es: 3113642529\n",
      "El reto de los 12 kilometros no es facil, así que te enviamos una imagen con la altimetria y puntos de hidratación            para que organices tu estrategia de carrera .\n",
      "Hola, Ángela María Bienvenida a Morrón trail run  tu numero es: 3162540538\n",
      "El reto de los 12 kilometros no es facil, así que te enviamos una imagen con la altimetria y puntos de hidratación            para que organices tu estrategia de carrera .\n",
      "Hola, María Fernanda Bienvenida a Morrón trail run  tu numero es: 3204785613\n",
      "El reto de los 12 kilometros no es facil, así que te enviamos una imagen con la altimetria y puntos de hidratación            para que organices tu estrategia de carrera .\n",
      "Hola, Víctor Alfonso Bienvenido a Morrón trail run  tu numero es: 3006019065\n",
      "El reto de los 12 kilometros no es facil, así que te enviamos una imagen con la altimetria y puntos de hidratación            para que organices tu estrategia de carrera .\n",
      "Hola, Luis Santiago Bienvenido a Morrón trail run  tu numero es: 3006871547\n",
      "El reto de los 12 kilometros no es facil, así que te enviamos una imagen con la altimetria y puntos de hidratación            para que organices tu estrategia de carrera .\n",
      "Hola, Pablo Bienvenido a Morrón trail run  tu numero es: 3134223935\n",
      "El reto de los 27k no es facil, así que te enviamos una imagen con la altimetria y puntos de hidratación            para que organices tu estrategia de carrera.\n",
      "Hola, Daniel Santiago  Bienvenido a Morrón trail run  tu numero es: 3146904173\n",
      "El reto de los 12 kilometros no es facil, así que te enviamos una imagen con la altimetria y puntos de hidratación            para que organices tu estrategia de carrera .\n",
      "Hola, Luis Eduardo Bienvenido a Morrón trail run  tu numero es: 3148221771\n",
      "El reto de los 12 kilometros no es facil, así que te enviamos una imagen con la altimetria y puntos de hidratación            para que organices tu estrategia de carrera .\n",
      "Hola, Juan Carlos  Bienvenido a Morrón trail run  tu numero es: 3116612020\n",
      "El reto de los 27k no es facil, así que te enviamos una imagen con la altimetria y puntos de hidratación            para que organices tu estrategia de carrera.\n",
      "Hola, Alejandro  Bienvenido a Morrón trail run  tu numero es: 3128286201\n",
      "El reto de los 12 kilometros no es facil, así que te enviamos una imagen con la altimetria y puntos de hidratación            para que organices tu estrategia de carrera .\n",
      "Hola, William Andrés  Bienvenido a Morrón trail run  tu numero es: 3226667668\n",
      "El reto de los 27k no es facil, así que te enviamos una imagen con la altimetria y puntos de hidratación            para que organices tu estrategia de carrera.\n",
      "Hola, JUDY ANDREA Bienvenida a Morrón trail run  tu numero es: 3105878232\n",
      "El reto de los 12 kilometros no es facil, así que te enviamos una imagen con la altimetria y puntos de hidratación            para que organices tu estrategia de carrera .\n",
      "Hola, Mariana  Bienvenida a Morrón trail run  tu numero es: 31642185\n",
      "El reto de los 12 kilometros no es facil, así que te enviamos una imagen con la altimetria y puntos de hidratación            para que organices tu estrategia de carrera .\n",
      "Hola, Elkin Bienvenido a Morrón trail run  tu numero es: 3137860861\n",
      "El reto de los 27k no es facil, así que te enviamos una imagen con la altimetria y puntos de hidratación            para que organices tu estrategia de carrera.\n",
      "Hola, DEISY Bienvenida a Morrón trail run  tu numero es: 3003923212\n",
      "El reto de los 12 kilometros no es facil, así que te enviamos una imagen con la altimetria y puntos de hidratación            para que organices tu estrategia de carrera .\n",
      "Hola, Luz Stella  Bienvenida a Morrón trail run  tu numero es: 3005378878\n",
      "El reto de los 12 kilometros no es facil, así que te enviamos una imagen con la altimetria y puntos de hidratación            para que organices tu estrategia de carrera .\n",
      "Hola, Adrian Ricardo  Bienvenido a Morrón trail run  tu numero es: 3004330253\n",
      "El reto de los 12 kilometros no es facil, así que te enviamos una imagen con la altimetria y puntos de hidratación            para que organices tu estrategia de carrera .\n",
      "Hola, Eliana Bienvenida a Morrón trail run  tu numero es: 3176356062\n",
      "El reto de los 12 kilometros no es facil, así que te enviamos una imagen con la altimetria y puntos de hidratación            para que organices tu estrategia de carrera .\n",
      "Hola, Hilda María  Bienvenida a Morrón trail run  tu numero es: 3116071642\n",
      "El reto de los 12 kilometros no es facil, así que te enviamos una imagen con la altimetria y puntos de hidratación            para que organices tu estrategia de carrera .\n",
      "Hola, Nestor Camilo  Bienvenido a Morrón trail run  tu numero es: 3153421048\n",
      "El reto de los 12 kilometros no es facil, así que te enviamos una imagen con la altimetria y puntos de hidratación            para que organices tu estrategia de carrera .\n",
      "Hola, Carolina  Bienvenida a Morrón trail run  tu numero es: 3006768448\n",
      "El reto de los 12 kilometros no es facil, así que te enviamos una imagen con la altimetria y puntos de hidratación            para que organices tu estrategia de carrera .\n",
      "Hola, Carolina  Bienvenida a Morrón trail run  tu numero es: 3126964958\n",
      "El reto de los 27k no es facil, así que te enviamos una imagen con la altimetria y puntos de hidratación            para que organices tu estrategia de carrera.\n",
      "Hola, M Elfrida  Bienvenida a Morrón trail run  tu numero es: 3122060228\n",
      "El reto de los 12 kilometros no es facil, así que te enviamos una imagen con la altimetria y puntos de hidratación            para que organices tu estrategia de carrera .\n",
      "Hola, Willy  Bienvenido a Morrón trail run  tu numero es: 3044448099\n",
      "El reto de los 27k no es facil, así que te enviamos una imagen con la altimetria y puntos de hidratación            para que organices tu estrategia de carrera.\n",
      "Hola, Mauricio Bienvenido a Morrón trail run  tu numero es: 3127423233\n",
      "El reto de los 27k no es facil, así que te enviamos una imagen con la altimetria y puntos de hidratación            para que organices tu estrategia de carrera.\n",
      "Hola, Juan Carlos Bienvenido a Morrón trail run  tu numero es: 31276067\n",
      "El reto de los 27k no es facil, así que te enviamos una imagen con la altimetria y puntos de hidratación            para que organices tu estrategia de carrera.\n",
      "Hola, Johnny Bienvenido a Morrón trail run  tu numero es: 31082922\n",
      "El reto de los 27k no es facil, así que te enviamos una imagen con la altimetria y puntos de hidratación            para que organices tu estrategia de carrera.\n",
      "Hola, Germán Ricardo Bienvenido a Morrón trail run  tu numero es: 3184472270\n",
      "El reto de los 12 kilometros no es facil, así que te enviamos una imagen con la altimetria y puntos de hidratación            para que organices tu estrategia de carrera .\n",
      "Hola, Andrea Bienvenida a Morrón trail run  tu numero es: 3135066135\n",
      "El reto de los 27k no es facil, así que te enviamos una imagen con la altimetria y puntos de hidratación            para que organices tu estrategia de carrera.\n"
     ]
    }
   ],
   "source": [
    "df = pd.read_csv(\"MorronTrailRun2022.csv\", sep= \";\")\n",
    "telefonos = df['Telefono de contacto']\n",
    "indice= 0\n",
    "df['Talla de camiseta']= df['Talla de camiseta'].fillna(0) \n",
    "\n",
    "for i in telefonos:\n",
    "      \n",
    "    num= str(i).replace('57','')   \n",
    "    if df['Soy'][indice] == 'Hombre':\n",
    "        sexo = 'o'\n",
    "    elif df['Soy'][indice] == 'Mujer':\n",
    "        sexo = 'a'\n",
    "    \n",
    "    print(f'Hola, {df[\"Nombre\"][indice]} Bienvenid{sexo} a Morrón trail run  tu numero es: {num}' )\n",
    "    if int(df['Distancia'][indice]) == 27:\n",
    "        print('El reto de los 27k no es facil, así que te enviamos una imagen con la altimetria y puntos de hidratación\\\n",
    "            para que organices tu estrategia de carrera.')\n",
    "    elif int(df['Distancia'][indice]) == 12:\n",
    "        print('El reto de los 12 kilometros no es facil, así que te enviamos una imagen con la altimetria y puntos de hidratación\\\n",
    "            para que organices tu estrategia de carrera .')\n",
    "    \n",
    "    # if df['Talla de camiseta'][indice] == 0:\n",
    "    #     print(f'{df[\"Nombre\"][indice]} por favor confirmanos la talla de tu camiseta')\n",
    "    # if df['EPS'][indice] == '1':\n",
    "    #     print(f'{df[\"Nombre\"][indice]} por favor confirmanos a que EPS perteneces')\n",
    "    \n",
    "    # pywhatkit.sendwhatmsg_instantly(f'+57{i}', f'Hola {df[\"Nombre\"][indice]}  Bienvenid{sexo} a\\\n",
    "    #                                     Morrón trail run 2022, tu pago ha sido confirmado con exito.\\\n",
    "    #                                         Esperamos que estes entrenando \\U0001F3C3 por que esta\\\n",
    "    #                                             montaña \\U0001F5FB no es nada fácil \\U0001F625 , aun así tenemos la plena certeza\\\n",
    "    #                                                 que lograras este reto que has puesto en tu camino \\U0001F600; en los \\\n",
    "    #                                                     próximos días te estaremos enviando toda la información\\\n",
    "    #                                                         para el día de la carrera, un saludo \\U0001F917.') \n",
    "    indice+=1                                 \n",
    "                                    \n",
    "    \n",
    "\n",
    "    # if len(str(i)) == 10:\n",
    "\n",
    "    #     print(f'Hola {df[\"Nombre\"][indice]} {df[\"Apellidos\"][indice]} tu numero es: {i}' )\n",
    "    #     indice+=1\n",
    "\n",
    "    # elif len(str(i)) == 12:\n",
    "    #     num= str(i).replace('57','')\n",
    "    #     print(f'Hello {df[\"Nombre\"][indice]} {df[\"Apellidos\"][indice]} tu numero es: {num}' )\n",
    "    #     indice+=1\n",
    "    # else:\n",
    "    #     print(f'Hi {df[\"Nombre\"][indice]} {df[\"Apellidos\"][indice]} tu numero es: {i} , tu numero no es valido' )\n",
    "    #     indice+=1\n",
    "        #pywhatkit.sendwhatmsg_instantly(f'+57{i}', 'Hola, Bienvenid@ a Morrón trail run 2022. Esperemos estes entrenando por que el morrón de la sierra no es nada facil, y esta hecha para campeones como tu. Por eso a pocos días de este gran día te saludamos y te contamos que por este medio te enviaremos todos los detalles para el día de la carrera y resolveremos tus dudas. ')\n",
    "                                        \n",
    "\n",
    "\n",
    "    "
   ]
  },
  {
   "cell_type": "code",
   "execution_count": 18,
   "metadata": {},
   "outputs": [
    {
     "data": {
      "text/plain": [
       "0             L\n",
       "1             L\n",
       "2             S\n",
       "3            XL\n",
       "4            XS\n",
       "        ...    \n",
       "65            L\n",
       "66    No aplica\n",
       "67            M\n",
       "68    No aplica\n",
       "69            S\n",
       "Name: Talla de camiseta, Length: 70, dtype: object"
      ]
     },
     "execution_count": 18,
     "metadata": {},
     "output_type": "execute_result"
    }
   ],
   "source": [
    "df = pd.read_csv(\"MorronTrailRun2022.csv\", sep= ';')\n",
    "df['Talla de camiseta']"
   ]
  },
  {
   "cell_type": "code",
   "execution_count": 33,
   "metadata": {},
   "outputs": [
    {
     "data": {
      "text/plain": [
       "Talla de camiseta\n",
       "M                    23\n",
       "S                    16\n",
       "L                    11\n",
       "XS                    7\n",
       "No aplica             7\n",
       "XL                    6\n",
       "dtype: int64"
      ]
     },
     "execution_count": 33,
     "metadata": {},
     "output_type": "execute_result"
    }
   ],
   "source": [
    "df = pd.read_csv(\"MorronTrailRun2022.csv\", sep= ';')\n",
    "tallas= df['Talla de camiseta'] \n",
    "tallas= pd.DataFrame(tallas)\n",
    "freq= tallas.value_counts()\n",
    "freq\n",
    "\n"
   ]
  },
  {
   "cell_type": "code",
   "execution_count": 3,
   "metadata": {},
   "outputs": [
    {
     "data": {
      "text/plain": [
       "Index(['Marca temporal', 'Numero Corredor', 'Apellidos', 'Nombre',\n",
       "       'Telefono de contacto', 'Tipo de documento', 'Numero de documento',\n",
       "       'EPS', 'Distancia', 'Talla de camiseta', 'Edad',\n",
       "       'Contacto de emergencia ', 'Tiempo de carrera', 'Kit',\n",
       "       'Dirección de correo electrónico', 'Soy', 'Unnamed: 16', 'Unnamed: 17'],\n",
       "      dtype='object')"
      ]
     },
     "execution_count": 3,
     "metadata": {},
     "output_type": "execute_result"
    }
   ],
   "source": [
    "df.columns"
   ]
  },
  {
   "cell_type": "code",
   "execution_count": 47,
   "metadata": {},
   "outputs": [
    {
     "name": "stdout",
     "output_type": "stream",
     "text": [
      "Hola, Juan Carlos  Bienvenido a Morrón trail run  tu numero es: 3116612020\n",
      "El reto de los 27k no es facil, así que te enviamos una imagen con la altimetria y puntos de hidratación                    para que organices tu estrategia de carrera.\n",
      "Hola, Alejandro  Bienvenido a Morrón trail run  tu numero es: 3128286201\n",
      "El reto de los 12 kilometros no es facil, así que te enviamos una imagen con la altimetria y puntos de hidratación                    para que organices tu estrategia de carrera .\n",
      "Hola, William Andrés  Bienvenido a Morrón trail run  tu numero es: 3226667668\n",
      "El reto de los 27k no es facil, así que te enviamos una imagen con la altimetria y puntos de hidratación                    para que organices tu estrategia de carrera.\n",
      "Hola, JUDY ANDREA Bienvenida a Morrón trail run  tu numero es: 3105878232\n",
      "El reto de los 12 kilometros no es facil, así que te enviamos una imagen con la altimetria y puntos de hidratación                    para que organices tu estrategia de carrera .\n",
      "Hola, Mariana  Bienvenida a Morrón trail run  tu numero es: 3164215785\n",
      "El reto de los 12 kilometros no es facil, así que te enviamos una imagen con la altimetria y puntos de hidratación                    para que organices tu estrategia de carrera .\n",
      "Hola, Elkin Bienvenido a Morrón trail run  tu numero es: 3137860861\n",
      "El reto de los 27k no es facil, así que te enviamos una imagen con la altimetria y puntos de hidratación                    para que organices tu estrategia de carrera.\n",
      "Elkin No tienes derecho a camiseta\n",
      "Hola, DEISY Bienvenida a Morrón trail run  tu numero es: 3003923212\n",
      "El reto de los 12 kilometros no es facil, así que te enviamos una imagen con la altimetria y puntos de hidratación                    para que organices tu estrategia de carrera .\n",
      "Hola, Luz Stella  Bienvenida a Morrón trail run  tu numero es: 3005378878\n",
      "El reto de los 12 kilometros no es facil, así que te enviamos una imagen con la altimetria y puntos de hidratación                    para que organices tu estrategia de carrera .\n",
      "Hola, Adrian Ricardo  Bienvenido a Morrón trail run  tu numero es: 3004330253\n",
      "El reto de los 12 kilometros no es facil, así que te enviamos una imagen con la altimetria y puntos de hidratación                    para que organices tu estrategia de carrera .\n",
      "Hola, Eliana Bienvenida a Morrón trail run  tu numero es: 3176356062\n",
      "El reto de los 12 kilometros no es facil, así que te enviamos una imagen con la altimetria y puntos de hidratación                    para que organices tu estrategia de carrera .\n",
      "Hola, Hilda María  Bienvenida a Morrón trail run  tu numero es: 3116071642\n",
      "El reto de los 12 kilometros no es facil, así que te enviamos una imagen con la altimetria y puntos de hidratación                    para que organices tu estrategia de carrera .\n",
      "Hola, Nestor Camilo  Bienvenido a Morrón trail run  tu numero es: 3153421048\n",
      "El reto de los 12 kilometros no es facil, así que te enviamos una imagen con la altimetria y puntos de hidratación                    para que organices tu estrategia de carrera .\n",
      "Hola, Carolina  Bienvenida a Morrón trail run  tu numero es: 3006768448\n",
      "El reto de los 12 kilometros no es facil, así que te enviamos una imagen con la altimetria y puntos de hidratación                    para que organices tu estrategia de carrera .\n",
      "Hola, Carolina  Bienvenida a Morrón trail run  tu numero es: 3126964958\n",
      "El reto de los 27k no es facil, así que te enviamos una imagen con la altimetria y puntos de hidratación                    para que organices tu estrategia de carrera.\n",
      "Hola, M Elfrida  Bienvenida a Morrón trail run  tu numero es: 3122060228\n",
      "El reto de los 12 kilometros no es facil, así que te enviamos una imagen con la altimetria y puntos de hidratación                    para que organices tu estrategia de carrera .\n",
      "Hola, Willy  Bienvenido a Morrón trail run  tu numero es: 3044448099\n",
      "El reto de los 27k no es facil, así que te enviamos una imagen con la altimetria y puntos de hidratación                    para que organices tu estrategia de carrera.\n",
      "Hola, Mauricio Bienvenido a Morrón trail run  tu numero es: 3127423233\n",
      "El reto de los 27k no es facil, así que te enviamos una imagen con la altimetria y puntos de hidratación                    para que organices tu estrategia de carrera.\n",
      "Hola, Juan Carlos Bienvenido a Morrón trail run  tu numero es: 3127576067\n",
      "El reto de los 27k no es facil, así que te enviamos una imagen con la altimetria y puntos de hidratación                    para que organices tu estrategia de carrera.\n",
      "Juan Carlos No tienes derecho a camiseta\n",
      "Hola, Johnny Bienvenido a Morrón trail run  tu numero es: 3108292257\n",
      "El reto de los 27k no es facil, así que te enviamos una imagen con la altimetria y puntos de hidratación                    para que organices tu estrategia de carrera.\n"
     ]
    }
   ],
   "source": [
    "df1 = pd.read_csv(\"Morronformulario2.csv\")\n",
    "telefonos = df1['Telefono de contacto']\n",
    "indice1= 0\n",
    "for i in telefonos:\n",
    "      \n",
    "    \n",
    "    if df1['Soy'][indice1] == 'Hombre':\n",
    "        sexo = 'o'\n",
    "    elif df1['Soy'][indice1] == 'Mujer':\n",
    "        sexo = 'a'\n",
    "    \n",
    "    print(f'Hola, {df1[\"Nombre\"][indice1]} Bienvenid{sexo} a Morrón trail run  tu numero es: {i}' )\n",
    "    \n",
    "    if df1['Distancia'][indice1] == 27:\n",
    "        print('El reto de los 27k no es facil, así que te enviamos una imagen con la altimetria y puntos de hidratación\\\n",
    "                    para que organices tu estrategia de carrera.')\n",
    "    elif df1['Distancia'][indice1] == 12:\n",
    "        print('El reto de los 12 kilometros no es facil, así que te enviamos una imagen con la altimetria y puntos de hidratación\\\n",
    "                    para que organices tu estrategia de carrera .')\n",
    "    \n",
    "    if df1['Talla Camiseta'][indice1] == 'No aplica':\n",
    "        print(f'{df1[\"Nombre\"][indice1]} No tienes derecho a camiseta')\n",
    "    if df1['EPS'][indice1] == '1':\n",
    "        print(f'{df[\"Nombre\"][indice]} por favor confirmanos a que EPS perteneces')\n",
    "    indice1 += 1\n",
    "\n"
   ]
  },
  {
   "cell_type": "code",
   "execution_count": 39,
   "metadata": {},
   "outputs": [
    {
     "data": {
      "text/plain": [
       "Index(['Marca temporal', 'Dirección de correo electrónico', 'Apellidos',\n",
       "       'Nombre', 'Telefono de contacto', 'Tipo de documento',\n",
       "       'Numero de documento', 'EPS', 'Distancia', 'Soy', 'Talla Camiseta',\n",
       "       'Edad', 'Contacto de emergencia ', 'Términos y condiciones ',\n",
       "       'Tipo de inscripción', 'Equipo o club al que pertenece', 'Soy.1'],\n",
       "      dtype='object')"
      ]
     },
     "execution_count": 39,
     "metadata": {},
     "output_type": "execute_result"
    }
   ],
   "source": [
    "df1.columns"
   ]
  }
 ],
 "metadata": {
  "kernelspec": {
   "display_name": "Python 3.6.5 ('venv': venv)",
   "language": "python",
   "name": "python3"
  },
  "language_info": {
   "codemirror_mode": {
    "name": "ipython",
    "version": 3
   },
   "file_extension": ".py",
   "mimetype": "text/x-python",
   "name": "python",
   "nbconvert_exporter": "python",
   "pygments_lexer": "ipython3",
   "version": "3.6.5"
  },
  "orig_nbformat": 4,
  "vscode": {
   "interpreter": {
    "hash": "d3ea003a5720a94390a8c6a8a1d678b498e70115c18144e967802dd7e70a44a8"
   }
  }
 },
 "nbformat": 4,
 "nbformat_minor": 2
}
