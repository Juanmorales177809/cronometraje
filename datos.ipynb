{
 "cells": [
  {
   "cell_type": "code",
   "execution_count": null,
   "metadata": {},
   "outputs": [
    {
     "ename": "",
     "evalue": "",
     "output_type": "error",
     "traceback": [
      "\u001b[1;31mNo se pudo iniciar el Kernel. \n",
      "OSError: [WinError 123] The filename, directory name, or volume label syntax is incorrect: '\"c:'. \n",
      "Vea el [registro] de Jupyter (command:jupyter.viewOutput) para obtener más detalles."
     ]
    }
   ],
   "source": [
    "import pandas as pd\n",
    "import pywhatkit\n",
    "import numpy as np"
   ]
  },
  {
   "cell_type": "code",
   "execution_count": 12,
   "metadata": {},
   "outputs": [],
   "source": [
    "df = pd.read_csv(\"MorronTrailRun2022-SinCamiseta (respuestas) - Respuestas de formulario 1.csv\")\n",
    "telefonos = df['Telefono de contacto']\n",
    "indice= 0\n",
    "#df['Talla de camiseta']= df['Talla de camiseta'].fillna(0) \n",
    "\n",
    "for i in telefonos:\n",
    "      \n",
    "    num= str(i).replace('57','')   \n",
    "    if df['Soy'][indice] == 'Hombre':\n",
    "        sexo = 'o'\n",
    "    elif df['Soy'][indice] == 'Mujer':\n",
    "        sexo = 'a'\n",
    "    nombre = df[\"Nombre\"][indice].title()\n",
    "    pywhatkit.sendwhatmsg_instantly(f'+57{i}', f'Hola {nombre}  Bienvenid{sexo} a Morrón trail run 2022, tu pago ha sido confirmado con exito. Esperamos que estes entrenando \\U0001F3C3 por que esta montaña \\U0001F5FB no es nada fácil \\U0001F625 , aun así tenemos la plena certeza que lograras este reto que has puesto en tu camino \\U0001F600; en los proximos días te estaremos enviando toda la información para el día de la carrera, un saludo \\U0001F917.') \n",
    "    # print(f'Hola, {nombre} Bienvenid{sexo} a Morrón trail run  tu numero es: {num}' )\n",
    "    if int(df['Distancia en kilometros [Km]'][indice]) == 27:\n",
    "        pywhatkit.sendwhatmsg_instantly(f'+57{i}', 'El reto de los 27k no es facil, así que te enviamos una imagen con la altimetria y puntos de hidratación para que organices tu estrategia de carrera.')\n",
    "        pywhatkit.sendwhats_image(f'+57{i}', './images/alt27k.jpg')\n",
    "        # print('El reto de los 27k no es facil, así que te enviamos una imagen con la altimetria y puntos de hidratación\\\n",
    "        #     para que organices tu estrategia de carrera.')\n",
    "    elif int(df['Distancia en kilometros [Km]'][indice]) == 12:\n",
    "        pywhatkit.sendwhatmsg_instantly(f'+57{i}','El reto de los 12 kilometros no es facil, así que te enviamos una imagen con la altimetria y puntos de hidratación para que organices tu estrategia de carrera .')\n",
    "        pywhatkit.sendwhats_image(f'+57{i}', './images/alt12k.jpg')\n",
    "        # print('El reto de los 12 kilometros no es facil, así que te enviamos una imagen con la altimetria y puntos de hidratación\\\n",
    "        #     para que organices tu estrategia de carrera .')\n",
    "    \n",
    "    # if df['Talla de camiseta'][indice] == 0:\n",
    "    #     print(f'{df[\"Nombre\"][indice]} por favor confirmanos la talla de tu camiseta')\n",
    "    # if df['EPS'][indice] == '1':\n",
    "    #     print(f'{df[\"Nombre\"][indice]} por favor confirmanos a que EPS perteneces')\n",
    "    \n",
    "   \n",
    "    indice+=1                                 \n",
    "                                    \n",
    "    \n",
    "\n",
    "    # if len(str(i)) == 10:\n",
    "\n",
    "    #     print(f'Hola {df[\"Nombre\"][indice]} {df[\"Apellidos\"][indice]} tu numero es: {i}' )\n",
    "    #     indice+=1\n",
    "\n",
    "    # elif len(str(i)) == 12:\n",
    "    #     num= str(i).replace('57','')\n",
    "    #     print(f'Hello {df[\"Nombre\"][indice]} {df[\"Apellidos\"][indice]} tu numero es: {num}' )\n",
    "    #     indice+=1\n",
    "    # else:\n",
    "    #     print(f'Hi {df[\"Nombre\"][indice]} {df[\"Apellidos\"][indice]} tu numero es: {i} , tu numero no es valido' )\n",
    "    #     indice+=1\n",
    "        #pywhatkit.sendwhatmsg_instantly(f'+57{i}', 'Hola, Bienvenid@ a Morrón trail run 2022. Esperemos estes entrenando por que el morrón de la sierra no es nada facil, y esta hecha para campeones como tu. Por eso a pocos días de este gran día te saludamos y te contamos que por este medio te enviaremos todos los detalles para el día de la carrera y resolveremos tus dudas. ')\n",
    "                                        \n",
    "\n",
    "\n",
    "    "
   ]
  },
  {
   "cell_type": "code",
   "execution_count": 5,
   "metadata": {},
   "outputs": [
    {
     "data": {
      "text/plain": [
       "Index(['Marca temporal', 'Dirección de correo electrónico', 'Apellidos',\n",
       "       'Nombre', 'Telefono de contacto', 'Tipo de documento',\n",
       "       'Numero de documento', 'EPS', 'Distancia en kilometros [Km]', 'Soy',\n",
       "       'Edad', 'Contacto de emergencia ', 'Términos y condiciones ',\n",
       "       'Adjuntar Recibo de Pago '],\n",
       "      dtype='object')"
      ]
     },
     "execution_count": 5,
     "metadata": {},
     "output_type": "execute_result"
    }
   ],
   "source": [
    "df.columns"
   ]
  },
  {
   "cell_type": "code",
   "execution_count": 18,
   "metadata": {},
   "outputs": [
    {
     "data": {
      "text/plain": [
       "0             L\n",
       "1             L\n",
       "2             S\n",
       "3            XL\n",
       "4            XS\n",
       "        ...    \n",
       "65            L\n",
       "66    No aplica\n",
       "67            M\n",
       "68    No aplica\n",
       "69            S\n",
       "Name: Talla de camiseta, Length: 70, dtype: object"
      ]
     },
     "execution_count": 18,
     "metadata": {},
     "output_type": "execute_result"
    }
   ],
   "source": [
    "df = pd.read_csv(\"MorronTrailRun2022.csv\", sep= ';')\n",
    "df['Talla de camiseta']"
   ]
  },
  {
   "cell_type": "code",
   "execution_count": 52,
   "metadata": {},
   "outputs": [
    {
     "data": {
      "text/plain": [
       "Index(['Fecha', 'Numero Corredor', 'Apellidos', 'Nombre',\n",
       "       'Telefono de contacto', 'Tipo de documento', 'Numero de documento',\n",
       "       'EPS', 'Distancia', 'Talla de camiseta', 'Edad',\n",
       "       'Contacto de emergencia ', 'Tiempo de carrera', 'Kit',\n",
       "       'Dirección de correo electrónico', 'Soy', 'Unnamed: 16', 'Unnamed: 17'],\n",
       "      dtype='object')"
      ]
     },
     "execution_count": 52,
     "metadata": {},
     "output_type": "execute_result"
    }
   ],
   "source": [
    "df = pd.read_csv(\"MorronTrailRun2022.csv\", sep= ';')\n",
    "tallas= df['Talla de camiseta'] \n",
    "tallas= pd.DataFrame(tallas)\n",
    "freq= tallas.value_counts()\n",
    "freq\n",
    "df.columns\n",
    "\n"
   ]
  },
  {
   "cell_type": "code",
   "execution_count": null,
   "metadata": {},
   "outputs": [
    {
     "ename": "",
     "evalue": "",
     "output_type": "error",
     "traceback": [
      "\u001b[1;31mNo se pudo iniciar el Kernel. \n",
      "OSError: [WinError 123] The filename, directory name, or volume label syntax is incorrect: '\"c:'. \n",
      "Vea el [registro] de Jupyter (command:jupyter.viewOutput) para obtener más detalles."
     ]
    }
   ],
   "source": [
    "df = pd.read_csv(\"MorronTrailRun2022.csv\", sep= ';')\n",
    "nombres = df[\"Nombre\"]\n",
    "apellidos = df[\"Apellidos\"]\n",
    "nombre = []\n",
    "salida = np.zeros(70)\n",
    "llegada = np.zeros(70)\n",
    "tiempo = np.zeros(70)\n",
    "posicion= np.zeros(70)\n",
    "estado= np.zeros(70)\n",
    "for indice in range(0, len(nombres)):\n",
    "    nombre.append(nombres[indice].title()+\" \"+apellidos[indice].title())\n",
    "data = {\"#\": list(df[\"Numero Corredor\"]), \"Nombres\": nombre, \"# Documento\": list(df[\"Numero de documento\"]),\"Distancia\": list(df[\"Distancia\"]),\"Posicion\": posicion,\n",
    "                \"Hora Salida\": salida, \"Hora Llegada\": llegada, \"Tiempo de Carrera\":tiempo, \"Estado\": estado,\"Telefono\": list(df[\"Telefono de contacto\"]),\n",
    "                }\n",
    "\n",
    "\n",
    "\n",
    "\n",
    "\n"
   ]
  },
  {
   "cell_type": "code",
   "execution_count": null,
   "metadata": {},
   "outputs": [],
   "source": []
  },
  {
   "cell_type": "code",
   "execution_count": 56,
   "metadata": {},
   "outputs": [
    {
     "data": {
      "text/plain": [
       "[]"
      ]
     },
     "execution_count": 56,
     "metadata": {},
     "output_type": "execute_result"
    }
   ],
   "source": [
    "data[\"Hora Salida\"]"
   ]
  },
  {
   "cell_type": "code",
   "execution_count": 47,
   "metadata": {},
   "outputs": [],
   "source": [
    "import mysql.connector\n"
   ]
  },
  {
   "cell_type": "code",
   "execution_count": 48,
   "metadata": {},
   "outputs": [],
   "source": [
    "connection= mysql.connector.connect(host='localhost',\n",
    "                                    database= 'Morron',\n",
    "                                    user= 'root',\n",
    "                                    password= 'N96phxst')\n",
    "                "
   ]
  },
  {
   "cell_type": "code",
   "execution_count": 49,
   "metadata": {},
   "outputs": [
    {
     "name": "stdout",
     "output_type": "stream",
     "text": [
      "Connected to MySQL Server version  8.0.29\n",
      "You're connected to database:  ('morron',)\n",
      "MySQL connection is closed\n"
     ]
    }
   ],
   "source": [
    "if connection.is_connected():\n",
    "        db_Info = connection.get_server_info()\n",
    "        print(\"Connected to MySQL Server version \", db_Info)\n",
    "        cursor = connection.cursor()\n",
    "        cursor.execute(\"select database();\")\n",
    "        record = cursor.fetchone()\n",
    "        print(\"You're connected to database: \", record)\n",
    "\n",
    "if connection.is_connected():\n",
    "        cursor.close()\n",
    "        connection.close()\n",
    "        print(\"MySQL connection is closed\")"
   ]
  },
  {
   "cell_type": "code",
   "execution_count": 15,
   "metadata": {},
   "outputs": [],
   "source": [
    "pywhatkit.sendwhatmsg_instantly('+573208745028', f'Hola Memo Bienvenido a Morrón Trail run 2022, tu inscripción fue procesada y ya eres parte de Morrón Trail run. Esperamos que estes entrenando \\U0001F3C3 por que esta montaña \\U0001F5FB no es nada fácil \\U0001F625 , aun así tenemos la plena certeza que lograras este reto que has puesto en tu camino \\U0001F600; en los próximos días te estaremos enviando toda la información para el día de la carrera, un saludo \\U0001F917.') \n",
    "    # print(f'Hola, {nombre} Bienvenid{sexo} a Morrón trail run  tu numero es: {num}' )\n",
    "pywhatkit.sendwhatmsg_instantly('+573208745028','El reto de los 12 kilometros no es facil, así que te enviamos una imagen con la altimetria y puntos de hidratación para que organices tu estrategia de carrera .')\n",
    "pywhatkit.sendwhats_image('+573208745028', './images/alt12k.jpg')"
   ]
  },
  {
   "cell_type": "code",
   "execution_count": 20,
   "metadata": {},
   "outputs": [
    {
     "data": {
      "text/plain": [
       "Index(['Marca temporal', 'Numero Corredor', 'Apellidos', 'Nombre',\n",
       "       'Telefono de contacto', 'Tipo de documento', 'Numero de documento',\n",
       "       'EPS', 'Distancia', 'Talla de camiseta', 'Edad',\n",
       "       'Contacto de emergencia ', 'Tiempo de carrera', 'Kit',\n",
       "       'Dirección de correo electrónico', 'Soy'],\n",
       "      dtype='object')"
      ]
     },
     "execution_count": 20,
     "metadata": {},
     "output_type": "execute_result"
    }
   ],
   "source": [
    "df = pd.read_csv(\"MorronTrailRun2022.csv\")\n",
    "df.columns"
   ]
  },
  {
   "cell_type": "code",
   "execution_count": 19,
   "metadata": {},
   "outputs": [
    {
     "data": {
      "text/plain": [
       "0            santiago\n",
       "1           Marisella\n",
       "2           Ana María\n",
       "3     Jhon Sebastián \n",
       "4               Karen\n",
       "           ...       \n",
       "88           Fabricio\n",
       "89         Sara Maria\n",
       "90        Juan Camilo\n",
       "91      Carlos Andrés\n",
       "92      PEDRO EDUARDO\n",
       "Name: Nombre, Length: 93, dtype: object"
      ]
     },
     "execution_count": 19,
     "metadata": {},
     "output_type": "execute_result"
    }
   ],
   "source": [
    "nombres = df[\"Nombre\"]\n",
    "apellidos = df[\"Apellidos\"]\n",
    "nombres"
   ]
  }
 ],
 "metadata": {
  "kernelspec": {
   "display_name": "Python 3.6.5 ('venv': venv)",
   "language": "python",
   "name": "python3"
  },
  "language_info": {
   "codemirror_mode": {
    "name": "ipython",
    "version": 3
   },
   "file_extension": ".py",
   "mimetype": "text/x-python",
   "name": "python",
   "nbconvert_exporter": "python",
   "pygments_lexer": "ipython3",
   "version": "3.6.5"
  },
  "orig_nbformat": 4,
  "vscode": {
   "interpreter": {
    "hash": "42bcdb6ceefcce87eee7dcfeec4e46093a148a0d29061fde32b400a4b576fe05"
   }
  }
 },
 "nbformat": 4,
 "nbformat_minor": 2
}
